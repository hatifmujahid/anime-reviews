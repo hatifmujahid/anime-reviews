{
 "cells": [
  {
   "cell_type": "code",
   "execution_count": 2,
   "metadata": {},
   "outputs": [],
   "source": [
    "import numpy as np\n",
    "import pandas as pd\n",
    "from sklearn.model_selection import train_test_split\n",
    "\n"
   ]
  },
  {
   "cell_type": "code",
   "execution_count": 21,
   "metadata": {},
   "outputs": [
    {
     "name": "stderr",
     "output_type": "stream",
     "text": [
      "C:\\Users\\Dell Latitude E5470\\AppData\\Local\\Temp\\ipykernel_4812\\4254610191.py:20: SettingWithCopyWarning: \n",
      "A value is trying to be set on a copy of a slice from a DataFrame\n",
      "\n",
      "See the caveats in the documentation: https://pandas.pydata.org/pandas-docs/stable/user_guide/indexing.html#returning-a-view-versus-a-copy\n",
      "  anime[j][i] = 1\n"
     ]
    },
    {
     "name": "stdout",
     "output_type": "stream",
     "text": [
      "   anime_id                              name  Music  Magic  Game  Fantasy  \\\n",
      "0     32281                    Kimi no Na wa.      0      0     0        0   \n",
      "1      5114  Fullmetal Alchemist: Brotherhood      0      1     0        1   \n",
      "2     28977                          Gintama°      0      0     0        0   \n",
      "3      9253                       Steins;Gate      0      0     0        0   \n",
      "4      9969                     Gintama&#039;      0      0     0        0   \n",
      "\n",
      "   Thriller  Vampire  Kids  Hentai  ...  Parody  Harem  Police  Ecchi  \\\n",
      "0         0        0     0       0  ...       0      0       0      0   \n",
      "1         0        0     0       0  ...       0      0       0      0   \n",
      "2         0        0     0       0  ...       1      0       0      0   \n",
      "3         1        0     0       0  ...       0      0       0      0   \n",
      "4         0        0     0       0  ...       1      0       0      0   \n",
      "\n",
      "   Historical  Shoujo  School  Space  Horror  Adventure  \n",
      "0           0       0       1      0       0          0  \n",
      "1           0       0       0      0       0          1  \n",
      "2           1       0       0      0       0          0  \n",
      "3           0       0       0      0       0          0  \n",
      "4           1       0       0      0       0          0  \n",
      "\n",
      "[5 rows x 45 columns]\n"
     ]
    }
   ],
   "source": [
    "rating = pd.read_csv('rating.csv')\n",
    "anime = pd.read_csv('anime.csv')\n",
    "# drop rows with rating -1\n",
    "rating = rating[rating.rating != -1]\n",
    "\n",
    "genres = set()\n",
    "for i in anime['genre']:\n",
    "    if type(i) != float:\n",
    "        for j in i.split(', '):\n",
    "            genres.add(j)\n",
    "genres = list(genres)\n",
    "anime = anime.drop(['type', 'episodes', 'rating', 'members'], axis=1)\n",
    "# add generes list as columns in anime dataframe\n",
    "ad = pd.DataFrame(columns=genres)\n",
    "anime = pd.concat([anime, ad], axis=1)\n",
    "# add 1 if anime has that genre else 0\n",
    "for i in range(len(anime)):\n",
    "    if type(anime['genre'][i]) != float:\n",
    "        for j in anime['genre'][i].split(', '):\n",
    "            anime[j][i] = 1\n",
    "# drop unnecessary columns\n",
    "anime = anime.drop(['genre'], axis=1)\n",
    "# fillna\n",
    "anime = anime.fillna(0)\n",
    "print(anime.head())"
   ]
  },
  {
   "cell_type": "code",
   "execution_count": 25,
   "metadata": {},
   "outputs": [
    {
     "name": "stdout",
     "output_type": "stream",
     "text": [
      "         user_id  anime_id  rating  Music  Magic  Game  Fantasy  Thriller  \\\n",
      "0              1      8074      10      0      0     0        0         0   \n",
      "1              3      8074       6      0      0     0        0         0   \n",
      "2              5      8074       2      0      0     0        0         0   \n",
      "3             12      8074       6      0      0     0        0         0   \n",
      "4             14      8074       6      0      0     0        0         0   \n",
      "...          ...       ...     ...    ...    ...   ...      ...       ...   \n",
      "6337234    69964     23585       7      0      0     0        0         0   \n",
      "6337235    69964     33659       6      0      1     0        0         0   \n",
      "6337236    72800     30738       4      0      0     0        0         0   \n",
      "6337237    73135      8723       5      0      0     0        0         0   \n",
      "6337238    73188      8749       6      0      0     0        0         0   \n",
      "\n",
      "         Vampire  Kids  ...  Parody  Harem  Police  Ecchi  Historical  Shoujo  \\\n",
      "0              0     0  ...       0      0       0      1           0       0   \n",
      "1              0     0  ...       0      0       0      1           0       0   \n",
      "2              0     0  ...       0      0       0      1           0       0   \n",
      "3              0     0  ...       0      0       0      1           0       0   \n",
      "4              0     0  ...       0      0       0      1           0       0   \n",
      "...          ...   ...  ...     ...    ...     ...    ...         ...     ...   \n",
      "6337234        0     0  ...       0      0       0      0           0       0   \n",
      "6337235        0     0  ...       0      0       0      0           0       0   \n",
      "6337236        0     1  ...       0      0       0      0           0       0   \n",
      "6337237        0     0  ...       0      0       0      0           0       0   \n",
      "6337238        0     0  ...       0      0       0      0           0       0   \n",
      "\n",
      "         School  Space  Horror  Adventure  \n",
      "0             0      0       1          0  \n",
      "1             0      0       1          0  \n",
      "2             0      0       1          0  \n",
      "3             0      0       1          0  \n",
      "4             0      0       1          0  \n",
      "...         ...    ...     ...        ...  \n",
      "6337234       0      0       0          1  \n",
      "6337235       0      0       0          0  \n",
      "6337236       0      0       0          1  \n",
      "6337237       0      0       0          0  \n",
      "6337238       0      0       0          0  \n",
      "\n",
      "[6337239 rows x 46 columns]\n"
     ]
    }
   ],
   "source": [
    "# merge anime and rating\n",
    "merged = pd.merge(rating, anime, on='anime_id')\n",
    "merged = merged.drop(['name'], axis=1)\n",
    "print(merged)\n"
   ]
  },
  {
   "cell_type": "code",
   "execution_count": 39,
   "metadata": {},
   "outputs": [
    {
     "ename": "ValueError",
     "evalue": "too many values to unpack (expected 2)",
     "output_type": "error",
     "traceback": [
      "\u001b[1;31m---------------------------------------------------------------------------\u001b[0m",
      "\u001b[1;31mValueError\u001b[0m                                Traceback (most recent call last)",
      "\u001b[1;32mc:\\Users\\Dell Latitude E5470\\OneDrive\\Desktop\\anime reviews\\program.ipynb Cell 4\u001b[0m in \u001b[0;36m1\n\u001b[1;32m----> <a href='vscode-notebook-cell:/c%3A/Users/Dell%20Latitude%20E5470/OneDrive/Desktop/anime%20reviews/program.ipynb#W6sZmlsZQ%3D%3D?line=0'>1</a>\u001b[0m train_data, test_data \u001b[39m=\u001b[39m train_test_split(X,y, test_size\u001b[39m=\u001b[39m\u001b[39m0.2\u001b[39m, random_state\u001b[39m=\u001b[39m\u001b[39m42\u001b[39m)\n\u001b[0;32m      <a href='vscode-notebook-cell:/c%3A/Users/Dell%20Latitude%20E5470/OneDrive/Desktop/anime%20reviews/program.ipynb#W6sZmlsZQ%3D%3D?line=1'>2</a>\u001b[0m train_data, test_data\n",
      "\u001b[1;31mValueError\u001b[0m: too many values to unpack (expected 2)"
     ]
    }
   ],
   "source": []
  }
 ],
 "metadata": {
  "kernelspec": {
   "display_name": "Python 3",
   "language": "python",
   "name": "python3"
  },
  "language_info": {
   "codemirror_mode": {
    "name": "ipython",
    "version": 3
   },
   "file_extension": ".py",
   "mimetype": "text/x-python",
   "name": "python",
   "nbconvert_exporter": "python",
   "pygments_lexer": "ipython3",
   "version": "3.10.6"
  },
  "orig_nbformat": 4
 },
 "nbformat": 4,
 "nbformat_minor": 2
}
